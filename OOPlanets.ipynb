{
 "metadata": {
  "name": "OOPlanets"
 }, 
 "nbformat": 2, 
 "worksheets": [
  {
   "cells": [
    {
     "cell_type": "code", 
     "collapsed": false, 
     "input": [
      "from __future__ import division", 
      "from numpy import *", 
      "import pylab", 
      "import scipy", 
      "from scipy.constants import G", 
      "import scipy.integrate", 
      "", 
      "class Integrator(object):", 
      "\t# Sets up an ODE integrator with a given force model, initial state, initial time,", 
      "\t# terminal function (of the same form as the force model function), and timestep", 
      "\tdef __init__(self, force_model, initial_state, t0, terminal_function, dt):", 
      "\t\tself.state = [initial_state]", 
      "\t\tself.force_model = force_model", 
      "\t\tself.terminal_function = terminal_function", 
      "\t\tself.t0 = t0", 
      "\t\tself.dt = dt", 
      "\t\t", 
      "\tdef run(self):", 
      "\t\t#integrator = scipy.integrate.ode(self.force_model)", 
      "\t\t#integrator.set_integrator('vode', method='adams')", 
      "\t\t#integrator.set_initial_value(self.state[0], self.t0)", 
      "\t\t#integrator.set_f_params()", 
      "\t\t", 
      "\t\ttimesa = linspace(self.t0, self.terminal_function, int(self.terminal_function / self.dt))", 
      "\t\tresa = scipy.integrate.odeint(self.force_model,self.state[-1],timesa)", 
      "\t\t", 
      "\t\tfor r in resa:", 
      "\t\t\tself.state.append(r)", 
      "\t\t", 
      "\t\t#while self.terminal_function(integrator.t, self.state[-1]) and integrator.successful():", 
      "\t\t#\tprint \"intt tt\", integrator.t", 
      "\t\t#\tintegrator.integrate(integrator.t+self.dt)", 
      "\t\t#\tself.state.append(integrator.y)", 
      "", 
      "class Body:", 
      "\tdef __init__(self, array):", 
      "\t\tself.set_array(array)", 
      "                ", 
      "        def __init__(self, x, y, vx, vy, m):", 
      "            self.x = x", 
      "            self.y = y", 
      "            self.vx = vx", 
      "            self.vy = vy", 
      "            self.m = m", 
      "    ", 
      "\tdef to_array(self):", 
      "\t\treturn array([self.x, self.y, self.vx, self.vy, self.m])", 
      "    ", 
      "\tdef from_array(self, array):", 
      "\t\tself.set_array(array)", 
      "\t", 
      "\tdef set_array(self,array):", 
      "\t\tself.x = array[0]", 
      "\t\tself.y = array[1]", 
      "\t\tself.vx = array[2]", 
      "\t\tself.vy = array[3]", 
      "\t\tself.m = array[4]", 
      "", 
      "class System:", 
      "\tdef __init__(self, bodies): # bodies is a list of Body", 
      "\t\tself.bodies = bodies", 
      "    ", 
      "\tdef to_array(self):", 
      "\t\tsysarray = array([e.to_array() for e in self.bodies])", 
      "\t\treturn reshape(sysarray, sysarray.size)", 
      "    ", 
      "\tdef from_array(self, array):", 
      "\t\tfor i, e in enumerate(array):", 
      "\t\t\tself.bodies[i].from_array(e)", 
      "\t\t\t", 
      "class PlanetaryForce:", 
      "\tdef __init__(self, body_shape, G):", 
      "\t\tself.body_shape = body_shape # parameterize the shape of planets (boundaries)", 
      "\t\tself.G = G # gravitational constant", 
      "\t\t", 
      "\tdef __call__(self, state, t):", 
      "\t\tdiff = zeros(self.body_shape) #initialize accumulator matrix to zeros", 
      "\t\t#print diff", 
      "\t\t#print state", 
      "\t\tshaped_state = reshape(state, self.body_shape) # reshape the state vector to have planets to iterate over", 
      "\t\t#print shaped_state", 
      "\t\tfor planet_i, planet in enumerate(shaped_state): # iterate over all planets", 
      "\t\t\tfor other_planet in append(shaped_state[:planet_i], shaped_state[planet_i+1:], axis=0): #and all its permutations with other planets", 
      "\t\t\t\tdiff[planet_i] += self.gravity(planet, other_planet) # and add the contribution due to that combination to the accumulator", 
      "\t\treturn reshape(diff, diff.size)", 
      "\t\t\t\t", 
      "\tdef gravity(self, p1, p2):", 
      "\t\t#print \"p1\", p1", 
      "\t\t#print \"p2\", p2", 
      "\t\tr1   = array([p1[0], p1[1]])", 
      "\t\tr2   = array([p2[0], p2[1]])", 
      "\t\tm2 = p2[4]", 
      "\t\t", 
      "\t\tr21 = r2 - r1", 
      "\t\t", 
      "\t\tv1 = array([p1[2], p1[3]])", 
      "\t\tv2 = array([p2[2], p2[3]])", 
      "\t\t", 
      "\t\thr21 = hypot(r21[0], r21[1])", 
      "\t\t", 
      "\t\ta1 = self.G*m2*r21/(hr21**3)", 
      "\t\t", 
      "\t\treturn array([v1[0], v1[1], a1[0], a1[1], 0]) # zero mass change", 
      "\t\t", 
      "class SystemIntegrator(Integrator):", 
      "\tdef __init__(self, force_model, initial_system, t0, terminal_function, dt):", 
      "\t\tinitial_state = reshape(initial_system.to_array(), initial_system.to_array().size)", 
      "\t\tself.system = initial_system", 
      "\t\tsuper(SystemIntegrator, self).__init__(force_model, initial_state, t0, terminal_function, dt)", 
      "\t\t", 
      "\tdef run(self):", 
      "\t\tsuper(SystemIntegrator, self).run()", 
      "\t\tself.system.from_array(reshape(self.state[-1], (len(s.bodies), self.state[-1].size/len(s.bodies))))", 
      "\t\t", 
      "### Begin main program", 
      "", 
      "class SystemFileReader:", 
      "    def __init__(self, filename):", 
      "        f = open(filename, 'r')", 
      "", 
      "        num_planets = f.readline()", 
      "", 
      "        bod = []", 
      "        for line in f:", 
      "            data = line.split() # no arguments to .split() will split on whitespace", 
      "            data = [float(e) for e in data] # changes the entries from strings to floats", 
      "            bod.append(Body(data[0],data[1],data[2],data[3],data[4]))", 
      "            #bod.append(Body(data))", 
      "", 
      "        self.system = System(bod)", 
      "", 
      "filereader = SystemFileReader('test_file')", 
      "        ", 
      "print filereader.system.to_array()", 
      "", 
      "def after_time(time):", 
      "    return lambda t, state: t<time", 
      "", 
      "forces = PlanetaryForce((len(filereader.system.bodies), filereader.system.bodies[0].to_array().size), G)", 
      "#intman = SystemIntegrator(forces, s, 0., after_time(10), 2)", 
      "intman = SystemIntegrator(forces, filereader.system, 0., 100, 0.01)"
     ], 
     "language": "python", 
     "outputs": [
      {
       "output_type": "stream", 
       "stream": "stdout", 
       "text": [
        "[ 1.          0.          0.          0.8         1.         -0.5", 
        "  0.8660254  -0.69282032 -0.4         1.         -0.5        -0.8660254", 
        "  0.69282032 -0.4         1.        ]"
       ]
      }
     ], 
     "prompt_number": 24
    }, 
    {
     "cell_type": "code", 
     "collapsed": false, 
     "input": [
      "intman.run()"
     ], 
     "language": "python", 
     "outputs": [], 
     "prompt_number": 25
    }, 
    {
     "cell_type": "code", 
     "collapsed": false, 
     "input": [
      "pylab.plot([e[5] for e in intman.state], [e[6] for e in intman.state])"
     ], 
     "language": "python", 
     "outputs": [
      {
       "output_type": "pyout", 
       "prompt_number": 26, 
       "text": [
        "[<matplotlib.lines.Line2D at 0x821e870>]"
       ]
      }, 
      {
       "output_type": "display_data", 
       "png": "[encoded data removed]"
      }
     ], 
     "prompt_number": 26
    }, 
    {
     "cell_type": "code", 
     "collapsed": false, 
     "input": [
      "pylab.plot([e[0] for e in intman.state], [e[1] for e in intman.state])"
     ], 
     "language": "python", 
     "outputs": [
      {
       "output_type": "pyout", 
       "prompt_number": 27, 
       "text": [
        "[<matplotlib.lines.Line2D at 0x7fcf7f0>]"
       ]
      }, 
      {
       "output_type": "display_data", 
       "png": "[encoded data removed]"
      }
     ], 
     "prompt_number": 27
    }, 
    {
     "cell_type": "code", 
     "collapsed": false, 
     "input": [
      "pylab.plot([e[10] for e in intman.state], [e[11] for e in intman.state])"
     ], 
     "language": "python", 
     "outputs": [
      {
       "output_type": "pyout", 
       "prompt_number": 28, 
       "text": [
        "[<matplotlib.lines.Line2D at 0x83b82d0>]"
       ]
      }, 
      {
       "output_type": "display_data", 
       "png": "[encoded data removed]"
      }
     ], 
     "prompt_number": 28
    }, 
    {
     "cell_type": "code", 
     "collapsed": true, 
     "input": [], 
     "language": "python", 
     "outputs": []
    }
   ]
  }
 ]
}